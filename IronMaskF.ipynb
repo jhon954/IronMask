{
 "cells": [
  {
   "cell_type": "code",
   "execution_count": 1,
   "metadata": {},
   "outputs": [
    {
     "name": "stderr",
     "output_type": "stream",
     "text": [
      "2022-10-19 12:56:31.649107: I tensorflow/core/platform/cpu_feature_guard.cc:193] This TensorFlow binary is optimized with oneAPI Deep Neural Network Library (oneDNN) to use the following CPU instructions in performance-critical operations:  AVX2 FMA\n",
      "To enable them in other operations, rebuild TensorFlow with the appropriate compiler flags.\n",
      "2022-10-19 12:56:32.418455: W tensorflow/stream_executor/platform/default/dso_loader.cc:64] Could not load dynamic library 'libcudart.so.11.0'; dlerror: libcudart.so.11.0: cannot open shared object file: No such file or directory\n",
      "2022-10-19 12:56:32.418485: I tensorflow/stream_executor/cuda/cudart_stub.cc:29] Ignore above cudart dlerror if you do not have a GPU set up on your machine.\n",
      "2022-10-19 12:56:32.513460: E tensorflow/stream_executor/cuda/cuda_blas.cc:2981] Unable to register cuBLAS factory: Attempting to register factory for plugin cuBLAS when one has already been registered\n",
      "2022-10-19 12:56:34.141369: W tensorflow/stream_executor/platform/default/dso_loader.cc:64] Could not load dynamic library 'libnvinfer.so.7'; dlerror: libnvinfer.so.7: cannot open shared object file: No such file or directory\n",
      "2022-10-19 12:56:34.141476: W tensorflow/stream_executor/platform/default/dso_loader.cc:64] Could not load dynamic library 'libnvinfer_plugin.so.7'; dlerror: libnvinfer_plugin.so.7: cannot open shared object file: No such file or directory\n",
      "2022-10-19 12:56:34.141485: W tensorflow/compiler/tf2tensorrt/utils/py_utils.cc:38] TF-TRT Warning: Cannot dlopen some TensorRT libraries. If you would like to use Nvidia GPU with TensorRT, please make sure the missing libraries mentioned above are installed properly.\n"
     ]
    }
   ],
   "source": [
    "import numpy as np\n",
    "import matplotlib.pyplot as plt\n",
    "from python_speech_features import mfcc\n",
    "import scipy.io.wavfile as wav\n",
    "import os\n",
    "from pydub import AudioSegment\n",
    "from sklearn.model_selection import train_test_split\n",
    "from sklearn.preprocessing import StandardScaler\n",
    "from keras.utils import np_utils\n",
    "from tensorflow.keras import datasets, Sequential\n",
    "from tensorflow.keras.layers import Flatten, Dense\n",
    "import pyaudio\n",
    "import wave"
   ]
  },
  {
   "cell_type": "code",
   "execution_count": 2,
   "metadata": {},
   "outputs": [],
   "source": [
    "def feature_extraction(path):\n",
    "    (rate, signal) = wav.read(path)\n",
    "    mfcc0 = mfcc(signal, rate, nfft=1200)\n",
    "\n",
    "    return mfcc0"
   ]
  },
  {
   "cell_type": "code",
   "execution_count": 3,
   "metadata": {},
   "outputs": [],
   "source": [
    "def all_features_extraction(dir1, dir2):\n",
    "    contJ=0\n",
    "    contO=0\n",
    "    n = len(os.listdir(dir1))+len(os.listdir(dir2))\n",
    "\n",
    "    matriz = np.zeros((n,199,13), float)\n",
    "    labels = np.empty(n)\n",
    "    cont1 = os.listdir(dir1)\n",
    "    cont2 = os.listdir(dir2)\n",
    "    for i in range(len(cont1)):\n",
    "        feature = feature_extraction(os.path.join(dir1, cont1[i]))\n",
    "        if(len(feature) == 399):\n",
    "            matriz[i]=feature[:199]\n",
    "        else:\n",
    "            matriz[i]=feature\n",
    "        labels[i] = 1\n",
    "        contJ +=1\n",
    "    for j in range(len(cont2)):\n",
    "        feature = feature_extraction(os.path.join(dir2, cont2[j]))\n",
    "        matriz[contJ+j]=feature\n",
    "        labels[contJ+j] = 0\n",
    "        contO+=1\n",
    "    return contJ, contO, matriz, labels"
   ]
  },
  {
   "cell_type": "code",
   "execution_count": 4,
   "metadata": {},
   "outputs": [],
   "source": [
    "dirJhon='JhonWav2seg'\n",
    "dirOther = 'OtherWav2'\n",
    "contJ, contO, matrizC, labels= all_features_extraction(dirJhon, dirOther)#Se extraen las caracteristicas en la matriz"
   ]
  },
  {
   "cell_type": "code",
   "execution_count": 5,
   "metadata": {},
   "outputs": [],
   "source": [
    "labels=np.reshape(labels, (-1,1))"
   ]
  },
  {
   "cell_type": "code",
   "execution_count": 7,
   "metadata": {},
   "outputs": [],
   "source": [
    "from sklearn.model_selection import train_test_split\n",
    "\n",
    "x_train, x_test, y_train, y_test = train_test_split(matrizC, labels, test_size=0.2, random_state=23)"
   ]
  },
  {
   "cell_type": "code",
   "execution_count": 8,
   "metadata": {},
   "outputs": [],
   "source": [
    "X_train = np.reshape(x_train, (x_train.shape[0],x_train.shape[1]*x_train.shape[2]))\n",
    "X_test = np.reshape(x_test, (x_test.shape[0],x_test.shape[1]*x_test.shape[2]))"
   ]
  },
  {
   "cell_type": "code",
   "execution_count": 9,
   "metadata": {},
   "outputs": [],
   "source": [
    "#Estandarizar matriz de caracteristicas\n",
    "\n",
    "scTrain=StandardScaler()\n",
    "scTrain.fit(X_train)\n",
    "X_train_st=scTrain.transform(X_train)"
   ]
  },
  {
   "cell_type": "code",
   "execution_count": 10,
   "metadata": {},
   "outputs": [],
   "source": [
    "scTest=StandardScaler()\n",
    "scTest.fit(X_test)\n",
    "X_test_std=scTest.transform(X_test)"
   ]
  },
  {
   "cell_type": "code",
   "execution_count": 11,
   "metadata": {},
   "outputs": [],
   "source": [
    "from keras.utils import np_utils\n",
    "\n",
    "nclasses = 2\n",
    "Y_train = np_utils.to_categorical(y_train,nclasses)\n",
    "Y_test = np_utils.to_categorical(y_test,nclasses)"
   ]
  },
  {
   "cell_type": "code",
   "execution_count": 12,
   "metadata": {},
   "outputs": [],
   "source": [
    "input_dim = X_train_st.shape[1]\n",
    "output_dim = Y_train.shape[1]"
   ]
  },
  {
   "cell_type": "code",
   "execution_count": 13,
   "metadata": {},
   "outputs": [
    {
     "name": "stderr",
     "output_type": "stream",
     "text": [
      "2022-10-19 12:57:27.856500: W tensorflow/stream_executor/platform/default/dso_loader.cc:64] Could not load dynamic library 'libcuda.so.1'; dlerror: libcuda.so.1: cannot open shared object file: No such file or directory\n",
      "2022-10-19 12:57:27.857150: W tensorflow/stream_executor/cuda/cuda_driver.cc:263] failed call to cuInit: UNKNOWN ERROR (303)\n",
      "2022-10-19 12:57:27.857173: I tensorflow/stream_executor/cuda/cuda_diagnostics.cc:156] kernel driver does not appear to be running on this host (jhonf-Nitro-AN515-55): /proc/driver/nvidia/version does not exist\n",
      "2022-10-19 12:57:27.858646: I tensorflow/core/platform/cpu_feature_guard.cc:193] This TensorFlow binary is optimized with oneAPI Deep Neural Network Library (oneDNN) to use the following CPU instructions in performance-critical operations:  AVX2 FMA\n",
      "To enable them in other operations, rebuild TensorFlow with the appropriate compiler flags.\n"
     ]
    }
   ],
   "source": [
    "modelo=Sequential()\n",
    "modelo.add(Dense(50, input_dim=input_dim, activation='relu'))\n",
    "modelo.add(Flatten())\n",
    "modelo.add(Dense(output_dim, activation='softmax'))"
   ]
  },
  {
   "cell_type": "code",
   "execution_count": 14,
   "metadata": {},
   "outputs": [],
   "source": [
    "modelo.compile(optimizer='adam',loss='categorical_crossentropy',metrics=['accuracy'])"
   ]
  },
  {
   "cell_type": "code",
   "execution_count": 15,
   "metadata": {},
   "outputs": [
    {
     "name": "stdout",
     "output_type": "stream",
     "text": [
      "Epoch 1/10\n",
      "5/5 [==============================] - 1s 45ms/step - loss: 9.4532 - accuracy: 0.7708 - val_loss: 1.0006 - val_accuracy: 0.9524\n",
      "Epoch 2/10\n",
      "5/5 [==============================] - 0s 8ms/step - loss: 0.6632 - accuracy: 0.9514 - val_loss: 2.0572 - val_accuracy: 0.9524\n",
      "Epoch 3/10\n",
      "5/5 [==============================] - 0s 10ms/step - loss: 0.5733 - accuracy: 0.9861 - val_loss: 1.4940 - val_accuracy: 0.9524\n",
      "Epoch 4/10\n",
      "5/5 [==============================] - 0s 9ms/step - loss: 5.4305e-07 - accuracy: 1.0000 - val_loss: 1.0473 - val_accuracy: 0.9524\n",
      "Epoch 5/10\n",
      "5/5 [==============================] - 0s 10ms/step - loss: 0.0117 - accuracy: 0.9931 - val_loss: 1.1450 - val_accuracy: 0.9524\n",
      "Epoch 6/10\n",
      "5/5 [==============================] - 0s 9ms/step - loss: 5.0166e-05 - accuracy: 1.0000 - val_loss: 1.2141 - val_accuracy: 0.9524\n",
      "Epoch 7/10\n",
      "5/5 [==============================] - 0s 8ms/step - loss: 2.7563e-04 - accuracy: 1.0000 - val_loss: 1.2509 - val_accuracy: 0.9524\n",
      "Epoch 8/10\n",
      "5/5 [==============================] - 0s 9ms/step - loss: 6.5035e-04 - accuracy: 1.0000 - val_loss: 1.2726 - val_accuracy: 0.9524\n",
      "Epoch 9/10\n",
      "5/5 [==============================] - 0s 10ms/step - loss: 3.2049e-04 - accuracy: 1.0000 - val_loss: 1.2836 - val_accuracy: 0.9524\n",
      "Epoch 10/10\n",
      "5/5 [==============================] - 0s 10ms/step - loss: 6.4403e-05 - accuracy: 1.0000 - val_loss: 1.2900 - val_accuracy: 0.9524\n"
     ]
    }
   ],
   "source": [
    "history=modelo.fit(X_train, Y_train,validation_split=0.3, epochs=10)"
   ]
  },
  {
   "cell_type": "code",
   "execution_count": 16,
   "metadata": {},
   "outputs": [],
   "source": [
    "def visualizacion_resultados(history):\n",
    "  epochs = [i for i in range(10)]\n",
    "  fig, ax = plt.subplots(1,2)\n",
    "  train_acc = history.history[\"accuracy\"]\n",
    "  train_loss = history.history[\"loss\"]\n",
    "  val_acc = history.history[\"val_accuracy\"]\n",
    "  val_loss = history.history[\"val_loss\"]\n",
    "  fig.set_size_inches(16, 9)\n",
    "\n",
    "  ax[0].plot(epochs, train_acc, \"go-\", label =\" Entrenamiento accuracy\")\n",
    "  ax[0].plot(epochs, val_acc, \"ro-\", label= \"Validacion accuracy\")\n",
    "  ax[0].set_title(\"Entrenamiento & validación accuracy\")\n",
    "  ax[0].legend()\n",
    "  ax[0].set_xlabel(\"Epochs\")\n",
    "  ax[0].set_ylabel(\"Accuracy\")\n",
    "\n",
    "  ax[1].plot(epochs, train_loss, \"go-\", label =\" Entrenamiento Loss\")\n",
    "  ax[1].plot(epochs, val_loss, \"ro-\", label= \"Validacion Loss\")\n",
    "  ax[1].set_title(\"Entrenamiento & validación Loss\")\n",
    "  ax[1].legend()\n",
    "  ax[1].set_xlabel(\"Epochs\")\n",
    "  ax[1].set_ylabel(\"Loss\")\n",
    "\n",
    "  plt.show()"
   ]
  },
  {
   "cell_type": "code",
   "execution_count": 75,
   "metadata": {},
   "outputs": [
    {
     "data": {
      "image/png": "[encoded data removed]",
      "text/plain": [
       "<Figure size 1600x900 with 2 Axes>"
      ]
     },
     "metadata": {},
     "output_type": "display_data"
    }
   ],
   "source": [
    "visualizacion_resultados(history)"
   ]
  },
  {
   "cell_type": "code",
   "execution_count": 76,
   "metadata": {},
   "outputs": [
    {
     "name": "stdout",
     "output_type": "stream",
     "text": [
      "2/2 [==============================] - 0s 3ms/step - loss: 1.5910 - accuracy: 0.9423\n"
     ]
    },
    {
     "data": {
      "text/plain": [
       "[1.5909888744354248, 0.942307710647583]"
      ]
     },
     "execution_count": 76,
     "metadata": {},
     "output_type": "execute_result"
    }
   ],
   "source": [
    "p=modelo.evaluate(X_test,Y_test)\n",
    "p"
   ]
  },
  {
   "cell_type": "code",
   "execution_count": 19,
   "metadata": {},
   "outputs": [],
   "source": [
    "def prueba(path):\n",
    "    mfff=feature_extraction(path)\n",
    "    if(len(mfff) == 399):\n",
    "        mfff=mfff[:199]\n",
    "        mfff_ = np.reshape(mfff, (mfff.shape[0]*mfff.shape[1]))\n",
    "        mff_ = np.reshape(mfff_, (1,-1))\n",
    "    else:\n",
    "        mfff_ = np.reshape(mfff, (mfff.shape[0]*mfff.shape[1]))\n",
    "        mff_ = np.reshape(mfff_, (1,-1))\n",
    "    return mff_"
   ]
  },
  {
   "cell_type": "code",
   "execution_count": 17,
   "metadata": {},
   "outputs": [],
   "source": [
    "def grabacion(pathDest):\n",
    "    Format=pyaudio.paInt16\n",
    "    Channels=1\n",
    "    Rate=44100\n",
    "    Chunk=1024\n",
    "    Duracion=5\n",
    "\n",
    "    audio=pyaudio.PyAudio()\n",
    "\n",
    "    stream=audio.open(format=Format, channels=Channels,\n",
    "                        rate=Rate, input=True,\n",
    "                        frames_per_buffer=Chunk)\n",
    "\n",
    "    print('grabando....')\n",
    "    frames=[]\n",
    "\n",
    "    for i in range(0,int(Rate/Chunk*Duracion)):\n",
    "        data=stream.read(Chunk)\n",
    "        frames.append(data)\n",
    "    print('grabacion terminada')\n",
    "\n",
    "\n",
    "    stream.stop_stream()\n",
    "    stream.close()\n",
    "    audio.terminate()\n",
    "\n",
    "    waveFile=wave.open(pathDest, 'wb')\n",
    "    waveFile.setnchannels(Channels)\n",
    "    waveFile.setsampwidth(audio.get_sample_size(Format))\n",
    "    waveFile.setframerate(Rate)\n",
    "    waveFile.writeframes(b''.join(frames))\n",
    "    waveFile.close()\n",
    "    print('Guardado')\n",
    "\n",
    "    print('Recortando')\n",
    "    audSeg = AudioSegment.from_wav(pathDest)\n",
    "    audSeg = audSeg[2000:4000]\n",
    "    dst='grabaciones/grabacion2seg.wav'\n",
    "    audSeg.export(dst, format=\"wav\")\n",
    "    print('Recortado')\n",
    "    \n",
    "    features = feature_extraction(dst)\n",
    "    mfff_ = np.reshape(features, (features.shape[0]*features.shape[1]))\n",
    "    mff_ = np.reshape(mfff_, (1,-1))\n",
    "    print('Caracteristicas extraidas')\n",
    "\n",
    "    #os.remove(dst)\n",
    "    #os.remove(pathDest)\n",
    "\n",
    "    return mff_"
   ]
  },
  {
   "cell_type": "code",
   "execution_count": 20,
   "metadata": {},
   "outputs": [],
   "source": [
    "#features = prueba('extraother2seg/sample-000336')\n",
    "features = prueba('voz150.wav')"
   ]
  },
  {
   "cell_type": "code",
   "execution_count": 21,
   "metadata": {},
   "outputs": [
    {
     "name": "stderr",
     "output_type": "stream",
     "text": [
      "ALSA lib pcm.c:2664:(snd_pcm_open_noupdate) Unknown PCM cards.pcm.rear\n",
      "ALSA lib pcm.c:2664:(snd_pcm_open_noupdate) Unknown PCM cards.pcm.center_lfe\n",
      "ALSA lib pcm.c:2664:(snd_pcm_open_noupdate) Unknown PCM cards.pcm.side\n",
      "ALSA lib pcm_route.c:877:(find_matching_chmap) Found no matching channel map\n",
      "ALSA lib pcm_route.c:877:(find_matching_chmap) Found no matching channel map\n",
      "ALSA lib pcm_route.c:877:(find_matching_chmap) Found no matching channel map\n",
      "ALSA lib pcm_route.c:877:(find_matching_chmap) Found no matching channel map\n",
      "ALSA lib pcm_oss.c:397:(_snd_pcm_oss_open) Cannot open device /dev/dsp\n",
      "ALSA lib pcm_oss.c:397:(_snd_pcm_oss_open) Cannot open device /dev/dsp\n",
      "ALSA lib confmisc.c:160:(snd_config_get_card) Invalid field card\n",
      "ALSA lib pcm_usb_stream.c:482:(_snd_pcm_usb_stream_open) Invalid card 'card'\n",
      "ALSA lib confmisc.c:160:(snd_config_get_card) Invalid field card\n",
      "ALSA lib pcm_usb_stream.c:482:(_snd_pcm_usb_stream_open) Invalid card 'card'\n"
     ]
    },
    {
     "name": "stdout",
     "output_type": "stream",
     "text": [
      "grabando....\n",
      "grabacion terminada\n",
      "Guardado\n",
      "Recortando\n",
      "Recortado\n",
      "Caracteristicas extraidas\n"
     ]
    }
   ],
   "source": [
    "features = grabacion('grabaciones/grabacion.wav')"
   ]
  },
  {
   "cell_type": "code",
   "execution_count": 22,
   "metadata": {},
   "outputs": [
    {
     "name": "stdout",
     "output_type": "stream",
     "text": [
      "1/1 [==============================] - 0s 66ms/step\n"
     ]
    },
    {
     "data": {
      "text/plain": [
       "array([[1., 0.]], dtype=float32)"
      ]
     },
     "execution_count": 22,
     "metadata": {},
     "output_type": "execute_result"
    }
   ],
   "source": [
    "Y_pred=modelo.predict(features)\n",
    "Y_pred"
   ]
  },
  {
   "cell_type": "code",
   "execution_count": 357,
   "metadata": {},
   "outputs": [
    {
     "name": "stdout",
     "output_type": "stream",
     "text": [
      "Jhon\n"
     ]
    }
   ],
   "source": [
    "for i in range(2):\n",
    "    if(Y_pred[0,i] < 0.5):\n",
    "        Y_pred[0,i]=0\n",
    "    else:\n",
    "        Y_pred[0,i]=1\n",
    "\n",
    "if(Y_pred[0,0]==1):\n",
    "    print(\"Another one\")\n",
    "else:\n",
    "    print(\"Jhon\")"
   ]
  },
  {
   "cell_type": "code",
   "execution_count": 362,
   "metadata": {},
   "outputs": [],
   "source": [
    "model_json = modelo.to_json()\n",
    "with open(\"model/model2silencios.json\", \"w\") as json_file:\n",
    "  json_file.write(model_json)\n",
    "#serializan los pesos (weights) para HDF5\n",
    "modelo.save_weights(\"model/model2silencios.h5\")"
   ]
  },
  {
   "cell_type": "code",
   "execution_count": 25,
   "metadata": {},
   "outputs": [
    {
     "name": "stdout",
     "output_type": "stream",
     "text": [
      "Modelo cargado desde el PC\n",
      "accuracy: 90.38%\n"
     ]
    }
   ],
   "source": [
    "from tensorflow.keras.models import model_from_json \n",
    "\n",
    "# carga el json y crea el modelo\n",
    "json_file = open('model/model2silencios.json', 'r')\n",
    "loaded_model_json = json_file.read()\n",
    " \n",
    "json_file.close()\n",
    "loaded_model = model_from_json(loaded_model_json)\n",
    "# se cargan los pesos (weights) en el nuevo modelo\n",
    "loaded_model.load_weights(\"model/model2silencios.h5\")\n",
    "print(\"Modelo cargado desde el PC\")\n",
    "# se evalua el modelo cargado con los datos de los test\n",
    "loaded_model.compile(optimizer = \"adam\", loss = \"categorical_crossentropy\", metrics = [\"accuracy\"])\n",
    "score = loaded_model.evaluate(X_test_std, Y_test, verbose=0)\n",
    "print(\"%s: %.2f%%\" % (loaded_model.metrics_names[1], score[1]*100))"
   ]
  },
  {
   "cell_type": "code",
   "execution_count": 58,
   "metadata": {},
   "outputs": [],
   "source": [
    "features = prueba('extraother2seg/sample-000198')\n",
    "#features = prueba('voz146.wav')"
   ]
  },
  {
   "cell_type": "code",
   "execution_count": 63,
   "metadata": {},
   "outputs": [
    {
     "name": "stderr",
     "output_type": "stream",
     "text": [
      "ALSA lib pcm.c:2664:(snd_pcm_open_noupdate) Unknown PCM cards.pcm.rear\n",
      "ALSA lib pcm.c:2664:(snd_pcm_open_noupdate) Unknown PCM cards.pcm.center_lfe\n",
      "ALSA lib pcm.c:2664:(snd_pcm_open_noupdate) Unknown PCM cards.pcm.side\n",
      "ALSA lib pcm_route.c:877:(find_matching_chmap) Found no matching channel map\n",
      "ALSA lib pcm_route.c:877:(find_matching_chmap) Found no matching channel map\n",
      "ALSA lib pcm_route.c:877:(find_matching_chmap) Found no matching channel map\n",
      "ALSA lib pcm_route.c:877:(find_matching_chmap) Found no matching channel map\n",
      "ALSA lib pcm_oss.c:397:(_snd_pcm_oss_open) Cannot open device /dev/dsp\n",
      "ALSA lib pcm_oss.c:397:(_snd_pcm_oss_open) Cannot open device /dev/dsp\n",
      "ALSA lib confmisc.c:160:(snd_config_get_card) Invalid field card\n",
      "ALSA lib pcm_usb_stream.c:482:(_snd_pcm_usb_stream_open) Invalid card 'card'\n",
      "ALSA lib confmisc.c:160:(snd_config_get_card) Invalid field card\n",
      "ALSA lib pcm_usb_stream.c:482:(_snd_pcm_usb_stream_open) Invalid card 'card'\n"
     ]
    },
    {
     "name": "stdout",
     "output_type": "stream",
     "text": [
      "grabando....\n",
      "grabacion terminada\n",
      "Guardado\n",
      "Recortando\n",
      "Recortado\n",
      "Caracteristicas extraidas\n"
     ]
    }
   ],
   "source": [
    "features = grabacion('grabaciones/grabacion.wav')"
   ]
  },
  {
   "cell_type": "code",
   "execution_count": 64,
   "metadata": {},
   "outputs": [
    {
     "name": "stdout",
     "output_type": "stream",
     "text": [
      "1/1 [==============================] - 0s 23ms/step\n"
     ]
    },
    {
     "data": {
      "text/plain": [
       "array([[9.9959570e-01, 4.0436586e-04]], dtype=float32)"
      ]
     },
     "execution_count": 64,
     "metadata": {},
     "output_type": "execute_result"
    }
   ],
   "source": [
    "ans = loaded_model.predict(features)\n",
    "ans"
   ]
  }
 ],
 "metadata": {
  "kernelspec": {
   "display_name": "Python 3.10.6 ('IronMask': venv)",
   "language": "python",
   "name": "python3"
  },
  "language_info": {
   "codemirror_mode": {
    "name": "ipython",
    "version": 3
   },
   "file_extension": ".py",
   "mimetype": "text/x-python",
   "name": "python",
   "nbconvert_exporter": "python",
   "pygments_lexer": "ipython3",
   "version": "3.10.6"
  },
  "orig_nbformat": 4,
  "vscode": {
   "interpreter": {
    "hash": "605fdfd3111447752b423876f1d8081e8a25ff7653d7262309e2bd7f2473d999"
   }
  }
 },
 "nbformat": 4,
 "nbformat_minor": 2
}
