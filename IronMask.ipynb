{
 "cells": [
  {
   "cell_type": "code",
   "execution_count": 83,
   "metadata": {},
   "outputs": [],
   "source": [
    "import numpy as np\n",
    "import pandas as pd\n",
    "import matplotlib.pyplot as plt\n",
    "from python_speech_features import mfcc\n",
    "from python_speech_features import logfbank\n",
    "import scipy.io.wavfile as wav\n",
    "import os"
   ]
  },
  {
   "cell_type": "code",
   "execution_count": 84,
   "metadata": {},
   "outputs": [],
   "source": [
    "from pydub import AudioSegment\n",
    "\n",
    "def mp3towav(dirOrigen, dirDest):\n",
    "    dirs = os.listdir(dirOrigen)\n",
    "    for i in range(len(dirs)):\n",
    "        audSeg = AudioSegment.from_mp3(os.path.join(dirOrigen, dirs[i]))\n",
    "        dst=os.path.join(dirDest, dirs[i])[:-4]\n",
    "        audSeg.export(dst, format=\"wav\")\n",
    "    return 'Done'"
   ]
  },
  {
   "cell_type": "code",
   "execution_count": 8,
   "metadata": {},
   "outputs": [
    {
     "data": {
      "text/plain": [
       "'Done'"
      ]
     },
     "execution_count": 8,
     "metadata": {},
     "output_type": "execute_result"
    }
   ],
   "source": [
    "#No ejecutar de nuevo\n",
    "#mp3towav('OtherVoices', 'OtherVoicesWav')"
   ]
  },
  {
   "cell_type": "code",
   "execution_count": 5,
   "metadata": {},
   "outputs": [],
   "source": [
    "def feature_extraction(path):\n",
    "    (rate, signal) = wav.read(path)\n",
    "    mfcc0 = mfcc(signal, rate, nfft=1200)\n",
    "\n",
    "    return mfcc0"
   ]
  },
  {
   "cell_type": "code",
   "execution_count": 92,
   "metadata": {},
   "outputs": [
    {
     "data": {
      "text/plain": [
       "(399, 13)"
      ]
     },
     "execution_count": 92,
     "metadata": {},
     "output_type": "execute_result"
    }
   ],
   "source": [
    "mfcc1 = feature_extraction('VoiceJhon_2seg/voz1')\n",
    "mfcc1.shape"
   ]
  },
  {
   "cell_type": "code",
   "execution_count": 33,
   "metadata": {},
   "outputs": [
    {
     "data": {
      "text/plain": [
       "array([15.14119547, 33.804992  , 17.598914  , -1.49570858,  7.18107174,\n",
       "        7.31387587, 16.6244021 , -2.15624084,  3.754287  , -7.61730031,\n",
       "       13.50118616,  6.47892846,  8.83158458])"
      ]
     },
     "execution_count": 33,
     "metadata": {},
     "output_type": "execute_result"
    }
   ],
   "source": [
    "mfcc1[200]"
   ]
  },
  {
   "cell_type": "code",
   "execution_count": 93,
   "metadata": {},
   "outputs": [
    {
     "data": {
      "text/plain": [
       "(399, 13)"
      ]
     },
     "execution_count": 93,
     "metadata": {},
     "output_type": "execute_result"
    }
   ],
   "source": [
    "mfcc2 = feature_extraction('VoiceJhon_2seg/voz13')\n",
    "mfcc2.shape"
   ]
  },
  {
   "cell_type": "code",
   "execution_count": 34,
   "metadata": {},
   "outputs": [
    {
     "data": {
      "text/plain": [
       "array([ 13.43684901,  29.10523882,  10.86748652,  -0.86673965,\n",
       "        11.54582094,   9.74162424,   1.33894264, -17.19453021,\n",
       "        -5.99656932, -11.55575653,  -6.98856548, -18.95479844,\n",
       "        -9.5064889 ])"
      ]
     },
     "execution_count": 34,
     "metadata": {},
     "output_type": "execute_result"
    }
   ],
   "source": [
    "mfcc2[200]"
   ]
  },
  {
   "cell_type": "code",
   "execution_count": 63,
   "metadata": {},
   "outputs": [
    {
     "data": {
      "text/plain": [
       "381"
      ]
     },
     "execution_count": 63,
     "metadata": {},
     "output_type": "execute_result"
    }
   ],
   "source": [
    "len(mfcc1)"
   ]
  },
  {
   "cell_type": "code",
   "execution_count": 74,
   "metadata": {},
   "outputs": [],
   "source": [
    "def mfcc_min(path_dir_1):\n",
    "    min = 1000\n",
    "    name = ''\n",
    "    cont = os.listdir(path_dir_1)\n",
    "    for i in range(len(cont)):\n",
    "        feature = feature_extraction(os.path.join(path_dir_1, cont[i]))\n",
    "        if (len(feature)< min):\n",
    "            min = len(feature)\n",
    "            name = os.path.join(path_dir_1, cont[i])\n",
    "    print(min)\n",
    "    print(name)\n",
    "\n",
    "def mfcc_max(path_dir_1):\n",
    "    max = 0\n",
    "    name = ''\n",
    "    cont = os.listdir(path_dir_1)\n",
    "    for i in range(len(cont)):\n",
    "        feature = feature_extraction(os.path.join(path_dir_1, cont[i]))\n",
    "        if (len(feature)> max):\n",
    "            max = len(feature)\n",
    "            name = os.path.join(path_dir_1, cont[i])\n",
    "    print(max)\n",
    "    print(name)\n"
   ]
  },
  {
   "cell_type": "code",
   "execution_count": 75,
   "metadata": {},
   "outputs": [
    {
     "name": "stdout",
     "output_type": "stream",
     "text": [
      "971\n",
      "VozJhon/voz2.wav\n"
     ]
    }
   ],
   "source": [
    "max = mfcc_max('VozJhon')"
   ]
  },
  {
   "cell_type": "code",
   "execution_count": 76,
   "metadata": {},
   "outputs": [
    {
     "name": "stdout",
     "output_type": "stream",
     "text": [
      "279\n",
      "VozJhon/voz74.wav\n"
     ]
    }
   ],
   "source": [
    "min = mfcc_min('VozJhon')"
   ]
  },
  {
   "cell_type": "code",
   "execution_count": 54,
   "metadata": {},
   "outputs": [
    {
     "data": {
      "text/plain": [
       "array([-3.60436534e+01,  0.00000000e+00,  0.00000000e+00,  0.00000000e+00,\n",
       "        0.00000000e+00,  0.00000000e+00, -3.43216945e-14,  0.00000000e+00,\n",
       "        0.00000000e+00,  0.00000000e+00,  9.64028692e-15,  0.00000000e+00,\n",
       "        0.00000000e+00])"
      ]
     },
     "execution_count": 54,
     "metadata": {},
     "output_type": "execute_result"
    }
   ],
   "source": [
    "mfcc1[0]"
   ]
  },
  {
   "cell_type": "code",
   "execution_count": 60,
   "metadata": {},
   "outputs": [],
   "source": [
    "matriz = np.zeros((2,381,13), float)\n",
    "matriz[0]=mfcc1"
   ]
  },
  {
   "cell_type": "code",
   "execution_count": 29,
   "metadata": {},
   "outputs": [],
   "source": [
    "def cut_audio_Jh(dirOrigen,dirDest):\n",
    "    dirs = os.listdir(dirOrigen)\n",
    "    for i in range(len(dirs)):\n",
    "        audSeg = AudioSegment.from_wav(os.path.join(dirOrigen, dirs[i]))\n",
    "        if(len(audSeg)<3000):\n",
    "            os.remove(os.path.join(dirOrigen, dirs[i]))\n",
    "        else:\n",
    "            audSeg=audSeg[2000:4000]\n",
    "        dst=os.path.join(dirDest, dirs[i])[:-4]\n",
    "        audSeg.export(dst, format=\"wav\")\n",
    "    return 'Done'"
   ]
  },
  {
   "cell_type": "code",
   "execution_count": 30,
   "metadata": {},
   "outputs": [
    {
     "data": {
      "text/plain": [
       "'Done'"
      ]
     },
     "execution_count": 30,
     "metadata": {},
     "output_type": "execute_result"
    }
   ],
   "source": [
    "cut_audio_Jh('newrecordjhon', 'VoiceJhon_2seg')"
   ]
  },
  {
   "cell_type": "code",
   "execution_count": 10,
   "metadata": {},
   "outputs": [],
   "source": [
    "def cut_audio_Oh(dirOrigen,dirDest):\n",
    "    dirs = os.listdir(dirOrigen)\n",
    "    for i in range(len(dirs)):\n",
    "        audSeg = AudioSegment.from_wav(os.path.join(dirOrigen, dirs[i]))\n",
    "        if(len(audSeg)<=3000):\n",
    "            audSeg=audSeg[500:2500]\n",
    "        else:\n",
    "            audSeg=audSeg[1000:3000]\n",
    "        dst=os.path.join(dirDest, dirs[i])\n",
    "        audSeg.export(dst, format=\"wav\")\n",
    "    return 'Done'"
   ]
  },
  {
   "cell_type": "code",
   "execution_count": 74,
   "metadata": {},
   "outputs": [
    {
     "data": {
      "text/plain": [
       "'Done'"
      ]
     },
     "execution_count": 74,
     "metadata": {},
     "output_type": "execute_result"
    }
   ],
   "source": [
    "cut_audio_Oh('OtherVoicesWav', 'OtherVoices_2seg')"
   ]
  },
  {
   "cell_type": "code",
   "execution_count": 85,
   "metadata": {},
   "outputs": [
    {
     "data": {
      "text/plain": [
       "350"
      ]
     },
     "execution_count": 85,
     "metadata": {},
     "output_type": "execute_result"
    }
   ],
   "source": [
    "dir = os.listdir('OtherVoices_2seg')\n",
    "len(dir)"
   ]
  },
  {
   "cell_type": "code",
   "execution_count": 84,
   "metadata": {},
   "outputs": [
    {
     "data": {
      "text/plain": [
       "350"
      ]
     },
     "execution_count": 84,
     "metadata": {},
     "output_type": "execute_result"
    }
   ],
   "source": [
    "dir = os.listdir('OtherVoices_2seg')\n",
    "cont=0\n",
    "for i in range(len(dir)):\n",
    "    audSeg = AudioSegment.from_wav(os.path.join('OtherVoices_2seg', dir[i]))\n",
    "    if(len(audSeg)==2000):\n",
    "        cont+=1\n",
    "cont\n"
   ]
  },
  {
   "cell_type": "code",
   "execution_count": 87,
   "metadata": {},
   "outputs": [
    {
     "data": {
      "text/plain": [
       "45"
      ]
     },
     "execution_count": 87,
     "metadata": {},
     "output_type": "execute_result"
    }
   ],
   "source": [
    "dir = os.listdir('VoiceJhon_2seg')\n",
    "cont=0\n",
    "for i in range(len(dir)):\n",
    "    audSeg = AudioSegment.from_wav(os.path.join('VoiceJhon_2seg', dir[i]))\n",
    "    if(len(audSeg)==2000):\n",
    "        cont+=1\n",
    "cont\n"
   ]
  },
  {
   "cell_type": "code",
   "execution_count": 86,
   "metadata": {},
   "outputs": [
    {
     "data": {
      "text/plain": [
       "45"
      ]
     },
     "execution_count": 86,
     "metadata": {},
     "output_type": "execute_result"
    }
   ],
   "source": [
    "dir = os.listdir('VoiceJhon_2seg')\n",
    "len(dir)"
   ]
  },
  {
   "cell_type": "code",
   "execution_count": 42,
   "metadata": {},
   "outputs": [],
   "source": [
    "dirs = os.listdir('VoiceJhon_2seg')\n",
    "cont=0\n",
    "names=[]\n",
    "for i in range(len(dirs)):\n",
    "    audSeg = AudioSegment.from_wav(os.path.join('VoiceJhon_2seg', dirs[i]))\n",
    "    if(len(audSeg)==2000):\n",
    "        cont+=1"
   ]
  },
  {
   "cell_type": "code",
   "execution_count": 28,
   "metadata": {},
   "outputs": [],
   "source": [
    "cont=0 #Eliminar audios\n",
    "for i in range(len(names)):\n",
    "    os.remove(names[i])\n",
    "    cont+=1"
   ]
  },
  {
   "cell_type": "code",
   "execution_count": 85,
   "metadata": {},
   "outputs": [],
   "source": [
    "def feature_extraction(path):\n",
    "    (rate, signal) = wav.read(path)\n",
    "    mfcc0 = mfcc(signal, rate, nfft=1200)\n",
    "\n",
    "    return mfcc0"
   ]
  },
  {
   "cell_type": "code",
   "execution_count": 86,
   "metadata": {},
   "outputs": [],
   "source": [
    "def all_features_extraction(dir1, dir2):\n",
    "    contJ=0\n",
    "    contO=0\n",
    "    n = len(os.listdir(dir1))+len(os.listdir(dir2))\n",
    "\n",
    "    matriz = np.zeros((n,199,13), float)\n",
    "    labels = np.empty(n)\n",
    "    cont1 = os.listdir(dir1)\n",
    "    cont2 = os.listdir(dir2)\n",
    "    for i in range(len(cont1)):\n",
    "        feature = feature_extraction(os.path.join(dir1, cont1[i]))\n",
    "        if(len(feature) == 399):\n",
    "            matriz[i]=feature[:199]\n",
    "            labels[i] = 1\n",
    "            contJ +=1\n",
    "    for j in range(len(cont2)):\n",
    "        feature = feature_extraction(os.path.join(dir2, cont2[j]))\n",
    "        if(len(feature)== 199):\n",
    "            matriz[45+j]=feature\n",
    "            labels[45+j] = 0\n",
    "            contO +=1\n",
    "        \n",
    "    return contJ, contO, matriz, labels"
   ]
  },
  {
   "cell_type": "code",
   "execution_count": 87,
   "metadata": {},
   "outputs": [],
   "source": [
    "dirJhon='VoiceJhon_2seg'\n",
    "dirOther = 'OtherVoices_2seg'\n",
    "contJ, contO, matrizC, labels= all_features_extraction(dirJhon, dirOther)#Se extraen las caracteristicas en la matriz\n"
   ]
  },
  {
   "cell_type": "code",
   "execution_count": 88,
   "metadata": {},
   "outputs": [],
   "source": [
    "labels=np.reshape(labels, (-1,1))"
   ]
  },
  {
   "cell_type": "code",
   "execution_count": 89,
   "metadata": {},
   "outputs": [
    {
     "data": {
      "text/plain": [
       "(170, 1)"
      ]
     },
     "execution_count": 89,
     "metadata": {},
     "output_type": "execute_result"
    }
   ],
   "source": [
    "labels.shape"
   ]
  },
  {
   "cell_type": "code",
   "execution_count": 74,
   "metadata": {},
   "outputs": [
    {
     "data": {
      "text/plain": [
       "(96.12709967276717, 0.0)"
      ]
     },
     "execution_count": 74,
     "metadata": {},
     "output_type": "execute_result"
    }
   ],
   "source": [
    "max = 0\n",
    "min = -99999\n",
    "for i in matrizC:\n",
    "    if(i.max()>max):\n",
    "        max = i.max()\n",
    "    if(i.min()>min):\n",
    "        min = i.min()\n",
    "max, min"
   ]
  },
  {
   "cell_type": "code",
   "execution_count": 75,
   "metadata": {},
   "outputs": [
    {
     "data": {
      "text/plain": [
       "array([[  8.57754622,   3.39136326,  -2.61921978, ...,   2.75746364,\n",
       "          6.12609392,   9.85694873],\n",
       "       [  7.96403323,  11.85066587,  -4.60877263, ...,  -1.38629058,\n",
       "          0.66782372,  19.03082597],\n",
       "       [  8.33336549,  15.89332602,  -0.14276764, ...,   4.54324448,\n",
       "          2.52336026,  19.00251607],\n",
       "       ...,\n",
       "       [ 14.73310211,  39.6398267 ,  18.30634287, ...,  -2.72009414,\n",
       "         -3.96143925,  12.53470694],\n",
       "       [ 15.00131775,  51.42631925,  24.40467547, ...,   2.759048  ,\n",
       "         -7.55097065,  22.02236197],\n",
       "       [ 15.74739734,  53.50284924,  30.19873327, ...,   5.94220101,\n",
       "        -11.07627277,  20.25377208]])"
      ]
     },
     "execution_count": 75,
     "metadata": {},
     "output_type": "execute_result"
    }
   ],
   "source": [
    "matrizC[0]"
   ]
  },
  {
   "cell_type": "code",
   "execution_count": 90,
   "metadata": {},
   "outputs": [],
   "source": [
    "from sklearn.model_selection import train_test_split\n",
    "\n",
    "x_train, x_test, y_train, y_test = train_test_split(matrizC, labels, test_size=0.2, random_state=23)"
   ]
  },
  {
   "cell_type": "code",
   "execution_count": 11,
   "metadata": {},
   "outputs": [
    {
     "data": {
      "text/plain": [
       "(160, 199, 13)"
      ]
     },
     "execution_count": 11,
     "metadata": {},
     "output_type": "execute_result"
    }
   ],
   "source": [
    "x_train.shape"
   ]
  },
  {
   "cell_type": "code",
   "execution_count": 12,
   "metadata": {},
   "outputs": [
    {
     "data": {
      "text/plain": [
       "(54, 199, 13)"
      ]
     },
     "execution_count": 12,
     "metadata": {},
     "output_type": "execute_result"
    }
   ],
   "source": [
    "x_test.shape"
   ]
  },
  {
   "cell_type": "code",
   "execution_count": 91,
   "metadata": {},
   "outputs": [],
   "source": [
    "X_train = np.reshape(x_train, (x_train.shape[0],x_train.shape[1]*x_train.shape[2]))\n",
    "X_test = np.reshape(x_test, (x_test.shape[0],x_test.shape[1]*x_test.shape[2]))"
   ]
  },
  {
   "cell_type": "code",
   "execution_count": 14,
   "metadata": {},
   "outputs": [
    {
     "data": {
      "text/plain": [
       "(160, 2587)"
      ]
     },
     "execution_count": 14,
     "metadata": {},
     "output_type": "execute_result"
    }
   ],
   "source": [
    "X_train.shape"
   ]
  },
  {
   "cell_type": "code",
   "execution_count": 92,
   "metadata": {},
   "outputs": [],
   "source": [
    "#Estandarizar matriz de caracteristicas\n",
    "from sklearn.preprocessing import StandardScaler\n",
    "\n",
    "scTrain=StandardScaler()\n",
    "scTrain.fit(X_train)\n",
    "X_train_st=scTrain.transform(X_train)"
   ]
  },
  {
   "cell_type": "code",
   "execution_count": 79,
   "metadata": {},
   "outputs": [
    {
     "data": {
      "text/plain": [
       "array([ 0.41181959,  2.32463631, -0.51658637, ...,  0.35843882,\n",
       "       -0.21026235,  0.39062735])"
      ]
     },
     "execution_count": 79,
     "metadata": {},
     "output_type": "execute_result"
    }
   ],
   "source": [
    "X_train_st[0]"
   ]
  },
  {
   "cell_type": "code",
   "execution_count": 93,
   "metadata": {},
   "outputs": [],
   "source": [
    "scTest=StandardScaler()\n",
    "scTest.fit(X_test)\n",
    "X_test_std=scTest.transform(X_test)"
   ]
  },
  {
   "cell_type": "code",
   "execution_count": 94,
   "metadata": {},
   "outputs": [],
   "source": [
    "from keras.utils import np_utils\n",
    "\n",
    "nclasses = 2\n",
    "Y_train = np_utils.to_categorical(y_train,nclasses)\n",
    "Y_test = np_utils.to_categorical(y_test,nclasses)"
   ]
  },
  {
   "cell_type": "code",
   "execution_count": 59,
   "metadata": {},
   "outputs": [
    {
     "data": {
      "text/plain": [
       "(54, 1)"
      ]
     },
     "execution_count": 59,
     "metadata": {},
     "output_type": "execute_result"
    }
   ],
   "source": []
  },
  {
   "cell_type": "code",
   "execution_count": 95,
   "metadata": {},
   "outputs": [],
   "source": [
    "input_dim = X_train_st.shape[1]\n",
    "output_dim = Y_train.shape[1]"
   ]
  },
  {
   "cell_type": "code",
   "execution_count": 107,
   "metadata": {},
   "outputs": [],
   "source": [
    "from tensorflow.keras import datasets, Sequential\n",
    "from tensorflow.keras.layers import Flatten, Dense\n",
    "\n",
    "modelo=Sequential()\n",
    "modelo.add( Dense(50, input_dim=input_dim, activation='relu')) # 15 es el numero de neuronas de la capa oculta\n",
    "modelo.add( Dense(output_dim, activation='softmax'))"
   ]
  },
  {
   "cell_type": "code",
   "execution_count": 108,
   "metadata": {},
   "outputs": [],
   "source": [
    "modelo.compile(optimizer='adam',loss='categorical_crossentropy',metrics=['accuracy'])"
   ]
  },
  {
   "cell_type": "code",
   "execution_count": 109,
   "metadata": {},
   "outputs": [
    {
     "name": "stdout",
     "output_type": "stream",
     "text": [
      "Epoch 1/10\n",
      "5/5 [==============================] - 1s 8ms/step - loss: 0.4766 - accuracy: 0.7721\n",
      "Epoch 2/10\n",
      "5/5 [==============================] - 0s 9ms/step - loss: 0.0087 - accuracy: 1.0000\n",
      "Epoch 3/10\n",
      "5/5 [==============================] - 0s 9ms/step - loss: 5.2302e-04 - accuracy: 1.0000\n",
      "Epoch 4/10\n",
      "5/5 [==============================] - 0s 10ms/step - loss: 1.0102e-04 - accuracy: 1.0000\n",
      "Epoch 5/10\n",
      "5/5 [==============================] - 0s 8ms/step - loss: 3.9709e-05 - accuracy: 1.0000\n",
      "Epoch 6/10\n",
      "5/5 [==============================] - 0s 8ms/step - loss: 2.4395e-05 - accuracy: 1.0000\n",
      "Epoch 7/10\n",
      "5/5 [==============================] - 0s 9ms/step - loss: 1.7766e-05 - accuracy: 1.0000\n",
      "Epoch 8/10\n",
      "5/5 [==============================] - 0s 7ms/step - loss: 1.4748e-05 - accuracy: 1.0000\n",
      "Epoch 9/10\n",
      "5/5 [==============================] - 0s 10ms/step - loss: 1.2987e-05 - accuracy: 1.0000\n",
      "Epoch 10/10\n",
      "5/5 [==============================] - 0s 8ms/step - loss: 1.2013e-05 - accuracy: 1.0000\n"
     ]
    },
    {
     "data": {
      "text/plain": [
       "<keras.callbacks.History at 0x7f066dc31ff0>"
      ]
     },
     "execution_count": 109,
     "metadata": {},
     "output_type": "execute_result"
    }
   ],
   "source": [
    "modelo.fit(X_train_st, Y_train, epochs=10)"
   ]
  },
  {
   "cell_type": "code",
   "execution_count": 110,
   "metadata": {},
   "outputs": [
    {
     "name": "stdout",
     "output_type": "stream",
     "text": [
      "2/2 [==============================] - 0s 6ms/step - loss: 0.1351 - accuracy: 1.0000\n"
     ]
    },
    {
     "data": {
      "text/plain": [
       "[0.13508331775665283, 1.0]"
      ]
     },
     "execution_count": 110,
     "metadata": {},
     "output_type": "execute_result"
    }
   ],
   "source": [
    "p=modelo.evaluate(X_test,Y_test)\n",
    "p"
   ]
  },
  {
   "cell_type": "code",
   "execution_count": 111,
   "metadata": {},
   "outputs": [],
   "source": [
    "def prueba(path):\n",
    "    mfff=feature_extraction(path)\n",
    "    if(len(mfff) == 399):\n",
    "        mfff=mfff[:199]\n",
    "        mfff_ = np.reshape(mfff, (mfff.shape[0]*mfff.shape[1]))\n",
    "        mff_ = np.reshape(mfff_, (1,-1))\n",
    "    else:\n",
    "        mfff_ = np.reshape(mfff, (mfff.shape[0]*mfff.shape[1]))\n",
    "        mff_ = np.reshape(mfff_, (1,-1))\n",
    "    return mff_"
   ]
  },
  {
   "cell_type": "code",
   "execution_count": 42,
   "metadata": {},
   "outputs": [
    {
     "data": {
      "text/plain": [
       "(1, 2587)"
      ]
     },
     "execution_count": 42,
     "metadata": {},
     "output_type": "execute_result"
    }
   ],
   "source": [
    "X_test_std[22:23].shape"
   ]
  },
  {
   "cell_type": "code",
   "execution_count": 97,
   "metadata": {},
   "outputs": [],
   "source": [
    "sc=StandardScaler()\n",
    "\n",
    "mff_std=scTrain.transform(mff_)"
   ]
  },
  {
   "cell_type": "code",
   "execution_count": 98,
   "metadata": {},
   "outputs": [
    {
     "data": {
      "text/plain": [
       "(1, 2587)"
      ]
     },
     "execution_count": 98,
     "metadata": {},
     "output_type": "execute_result"
    }
   ],
   "source": [
    "mff_std.shape"
   ]
  },
  {
   "cell_type": "code",
   "execution_count": 112,
   "metadata": {},
   "outputs": [
    {
     "name": "stdout",
     "output_type": "stream",
     "text": [
      "1/1 [==============================] - 0s 141ms/step\n"
     ]
    },
    {
     "data": {
      "text/plain": [
       "array([[9.9990535e-01, 9.4598727e-05]], dtype=float32)"
      ]
     },
     "execution_count": 112,
     "metadata": {},
     "output_type": "execute_result"
    }
   ],
   "source": [
    "Y_pred=modelo.predict(X_test_std[22:23])\n",
    "Y_pred"
   ]
  },
  {
   "cell_type": "code",
   "execution_count": 118,
   "metadata": {},
   "outputs": [],
   "source": [
    "m1 = prueba('extraother2seg/sample-000198')\n",
    "#m1 = prueba('VoiceJhon_2seg/voz10')"
   ]
  },
  {
   "cell_type": "code",
   "execution_count": 27,
   "metadata": {},
   "outputs": [
    {
     "data": {
      "text/plain": [
       "(1, 2587)"
      ]
     },
     "execution_count": 27,
     "metadata": {},
     "output_type": "execute_result"
    }
   ],
   "source": [
    "m1.shape"
   ]
  },
  {
   "cell_type": "code",
   "execution_count": 119,
   "metadata": {},
   "outputs": [
    {
     "name": "stdout",
     "output_type": "stream",
     "text": [
      "1/1 [==============================] - 0s 58ms/step\n"
     ]
    },
    {
     "data": {
      "text/plain": [
       "array([[1., 0.]], dtype=float32)"
      ]
     },
     "execution_count": 119,
     "metadata": {},
     "output_type": "execute_result"
    }
   ],
   "source": [
    "Y_pred=modelo.predict(m1)\n",
    "Y_pred"
   ]
  },
  {
   "cell_type": "code",
   "execution_count": 47,
   "metadata": {},
   "outputs": [
    {
     "data": {
      "text/plain": [
       "array([[0., 1.]], dtype=float32)"
      ]
     },
     "execution_count": 47,
     "metadata": {},
     "output_type": "execute_result"
    }
   ],
   "source": [
    "for i in range(len(Y_pred+1)):\n",
    "  if(Y_pred[0,i]<0.5):\n",
    "    Y_pred[0,i]=0\n",
    "Y_pred"
   ]
  },
  {
   "cell_type": "code",
   "execution_count": 103,
   "metadata": {},
   "outputs": [],
   "source": [
    "import pyaudio\n",
    "import wave\n",
    "\n",
    "\n",
    "def grabacion(pathDest):\n",
    "    Format=pyaudio.paInt16\n",
    "    Channels=1\n",
    "    Rate=44100\n",
    "    Chunk=1024\n",
    "    Duracion=5\n",
    "\n",
    "    audio=pyaudio.PyAudio()\n",
    "\n",
    "    stream=audio.open(format=Format, channels=Channels,\n",
    "                        rate=Rate, input=True,\n",
    "                        frames_per_buffer=Chunk)\n",
    "\n",
    "    print('grabando....')\n",
    "    frames=[]\n",
    "\n",
    "    for i in range(0,int(Rate/Chunk*Duracion)):\n",
    "        data=stream.read(Chunk)\n",
    "        frames.append(data)\n",
    "    print('grabacion terminada')\n",
    "\n",
    "\n",
    "    stream.stop_stream()\n",
    "    stream.close()\n",
    "    audio.terminate()\n",
    "\n",
    "    waveFile=wave.open(pathDest, 'wb')\n",
    "    waveFile.setnchannels(Channels)\n",
    "    waveFile.setsampwidth(audio.get_sample_size(Format))\n",
    "    waveFile.setframerate(Rate)\n",
    "    waveFile.writeframes(b''.join(frames))\n",
    "    waveFile.close()\n",
    "    print('Guardado')\n",
    "\n",
    "    print('Recortando')\n",
    "    audSeg = AudioSegment.from_wav(pathDest)\n",
    "    audSeg = audSeg[2000:4000]\n",
    "    dst='grabaciones/grabacion2seg.wav'\n",
    "    audSeg.export(dst, format=\"wav\")\n",
    "    print('Recortado')\n",
    "    \n",
    "    features = feature_extraction(dst)\n",
    "    mfff_ = np.reshape(features, (features.shape[0]*features.shape[1]))\n",
    "    mff_ = np.reshape(mfff_, (1,-1))\n",
    "    print('Caracteristicas extraidas')\n",
    "\n",
    "    print('Eliminando archivos')\n",
    "\n",
    "    #os.remove(dst)\n",
    "    #os.remove(pathDest)\n",
    "\n",
    "    return mff_\n",
    "\n",
    "\n",
    "    "
   ]
  },
  {
   "cell_type": "code",
   "execution_count": 132,
   "metadata": {},
   "outputs": [
    {
     "name": "stderr",
     "output_type": "stream",
     "text": [
      "ALSA lib pcm.c:2664:(snd_pcm_open_noupdate) Unknown PCM cards.pcm.rear\n",
      "ALSA lib pcm.c:2664:(snd_pcm_open_noupdate) Unknown PCM cards.pcm.center_lfe\n",
      "ALSA lib pcm.c:2664:(snd_pcm_open_noupdate) Unknown PCM cards.pcm.side\n",
      "ALSA lib pcm_route.c:877:(find_matching_chmap) Found no matching channel map\n",
      "ALSA lib pcm_route.c:877:(find_matching_chmap) Found no matching channel map\n",
      "ALSA lib pcm_route.c:877:(find_matching_chmap) Found no matching channel map\n",
      "ALSA lib pcm_route.c:877:(find_matching_chmap) Found no matching channel map\n",
      "ALSA lib pcm_oss.c:397:(_snd_pcm_oss_open) Cannot open device /dev/dsp\n",
      "ALSA lib pcm_oss.c:397:(_snd_pcm_oss_open) Cannot open device /dev/dsp\n",
      "ALSA lib confmisc.c:160:(snd_config_get_card) Invalid field card\n",
      "ALSA lib pcm_usb_stream.c:482:(_snd_pcm_usb_stream_open) Invalid card 'card'\n",
      "ALSA lib confmisc.c:160:(snd_config_get_card) Invalid field card\n",
      "ALSA lib pcm_usb_stream.c:482:(_snd_pcm_usb_stream_open) Invalid card 'card'\n"
     ]
    },
    {
     "name": "stdout",
     "output_type": "stream",
     "text": [
      "grabando....\n",
      "grabacion terminada\n",
      "Guardado\n",
      "Recortando\n",
      "Recortado\n",
      "Caracteristicas extraidas\n",
      "Eliminando archivos\n"
     ]
    }
   ],
   "source": [
    "features = grabacion('grabaciones/grabacion.wav')"
   ]
  },
  {
   "cell_type": "code",
   "execution_count": 126,
   "metadata": {},
   "outputs": [
    {
     "data": {
      "text/plain": [
       "(1, 2587)"
      ]
     },
     "execution_count": 126,
     "metadata": {},
     "output_type": "execute_result"
    }
   ],
   "source": [
    "features.shape"
   ]
  },
  {
   "cell_type": "code",
   "execution_count": 133,
   "metadata": {},
   "outputs": [
    {
     "name": "stdout",
     "output_type": "stream",
     "text": [
      "1/1 [==============================] - 0s 103ms/step\n"
     ]
    },
    {
     "data": {
      "text/plain": [
       "array([[1.0000000e+00, 1.1120673e-29]], dtype=float32)"
      ]
     },
     "execution_count": 133,
     "metadata": {},
     "output_type": "execute_result"
    }
   ],
   "source": [
    "Y_pred=modelo.predict(features)\n",
    "Y_pred"
   ]
  },
  {
   "cell_type": "code",
   "execution_count": 34,
   "metadata": {},
   "outputs": [
    {
     "data": {
      "text/plain": [
       "array([[9.9999940e-01, 6.3333454e-07]], dtype=float32)"
      ]
     },
     "execution_count": 34,
     "metadata": {},
     "output_type": "execute_result"
    }
   ],
   "source": [
    "for i in range(len(Y_pred+1)):\n",
    "  if(Y_pred[0,i] < 0.5):\n",
    "    Y_pred[0,i]=0\n",
    "Y_pred"
   ]
  },
  {
   "cell_type": "code",
   "execution_count": null,
   "metadata": {},
   "outputs": [],
   "source": [
    "# serializa el modelo para JSON\n",
    "model_json = model_optimizer.to_json()\n",
    "with open(\"model.json\", \"w\") as json_file:\n",
    "  json_file.write(model_json)\n",
    "#serializan los pesos (weights) para HDF5\n",
    "model_optimizer.save_weights(\"model.h5\")"
   ]
  },
  {
   "cell_type": "code",
   "execution_count": null,
   "metadata": {},
   "outputs": [],
   "source": [
    "from tensorflow.keras.models import model_from_json \n",
    "\n",
    "# carga el json y crea el modelo\n",
    "json_file = open('model.json', 'r')\n",
    "loaded_model_json = json_file.read()\n",
    " \n",
    "json_file.close()\n",
    "loaded_model = model_from_json(loaded_model_json)\n",
    "# se cargan los pesos (weights) en el nuevo modelo\n",
    "loaded_model.load_weights(\"model.h5\")\n",
    "print(\"Modelo cargado desde el PC\")\n",
    "# se evalua el modelo cargado con los datos de los test\n",
    "loaded_model.compile(optimizer = \"adam\", loss = \"categorical_crossentropy\", metrics = [\"accuracy\"])\n",
    "score = loaded_model.evaluate(X_test, Y_test, verbose=0)\n",
    "print(\"%s: %.2f%%\" % (loaded_model.metrics_names[1], score[1]*100))"
   ]
  },
  {
   "cell_type": "code",
   "execution_count": null,
   "metadata": {},
   "outputs": [],
   "source": [
    "print('git')"
   ]
  },
  {
   "cell_type": "code",
   "execution_count": 2,
   "metadata": {},
   "outputs": [],
   "source": [
    "import serial"
   ]
  }
 ],
 "metadata": {
  "kernelspec": {
   "display_name": "Python 3.10.6 ('IronMask': venv)",
   "language": "python",
   "name": "python3"
  },
  "language_info": {
   "codemirror_mode": {
    "name": "ipython",
    "version": 3
   },
   "file_extension": ".py",
   "mimetype": "text/x-python",
   "name": "python",
   "nbconvert_exporter": "python",
   "pygments_lexer": "ipython3",
   "version": "3.10.6"
  },
  "orig_nbformat": 4,
  "vscode": {
   "interpreter": {
    "hash": "605fdfd3111447752b423876f1d8081e8a25ff7653d7262309e2bd7f2473d999"
   }
  }
 },
 "nbformat": 4,
 "nbformat_minor": 2
}
